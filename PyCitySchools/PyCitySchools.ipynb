{
 "cells": [
  {
   "cell_type": "code",
   "execution_count": 275,
   "id": "7e36d9dd-219d-4414-b302-112aabf1605f",
   "metadata": {},
   "outputs": [],
   "source": [
    " # Dependencies and Setup\n",
    "import pandas as pd"
   ]
  },
  {
   "cell_type": "code",
   "execution_count": 276,
   "id": "f147640c-4a62-454a-a6fb-f14051604670",
   "metadata": {},
   "outputs": [],
   "source": [
    "# Files to Load\n",
    "student_input = \"Resources/students_complete.csv\"\n",
    "school_input = \"Resources/schools_complete.csv\"\n",
    "\n",
    "# Read School and Student Data File and store into Pandas DataFrames\n",
    "student_data = pd.read_csv(student_input)\n",
    "school_data = pd.read_csv(school_input)\n",
    "\n",
    "# Combine the data into a single dataset.  \n",
    "df = pd.merge(student_data, school_data, how=\"left\", on=[\"school_name\", \"school_name\"])\n"
   ]
  },
  {
   "cell_type": "markdown",
   "id": "d199d52b-609c-4a89-9168-70b610d12b48",
   "metadata": {},
   "source": [
    "## District Summary"
   ]
  },
  {
   "cell_type": "markdown",
   "id": "695cdd7a-16b8-4570-968a-e0bb91422537",
   "metadata": {},
   "source": [
    "**Create a high-level snapshot, in a DataFrame, of the district's key metrics, including the following:**\n",
    "\n",
    "- Total schools\n",
    "- Total students\n",
    "- Total budget\n",
    "- Average math score\n",
    "- Average reading score\n",
    "- % passing math (the percentage of students who passed math)\n",
    "- % passing reading (the percentage of students who passed reading)\n",
    "- % overall passing (the percentage of students who passed math AND reading)"
   ]
  },
  {
   "cell_type": "code",
   "execution_count": 277,
   "id": "57f3032b-6d79-4fb8-8ba9-4e35e6fbec49",
   "metadata": {},
   "outputs": [],
   "source": [
    "# calculate totals for schools and students\n",
    "total_schools = len(df[\"school_name\"].unique())\n",
    "total_students = df[\"Student ID\"].count()\n",
    "\n",
    "# calculate the total budget\n",
    "total_budget = school_data[\"budget\"].sum()"
   ]
  },
  {
   "cell_type": "code",
   "execution_count": 278,
   "id": "bea0a4b1-fc40-4947-b4f3-4f3d7d619502",
   "metadata": {},
   "outputs": [],
   "source": [
    "# calculate average scores\n",
    "avg_math = df[\"math_score\"].mean()\n",
    "avg_reading = df[\"reading_score\"].mean()"
   ]
  },
  {
   "cell_type": "code",
   "execution_count": 279,
   "id": "89ad8b6a-ae57-4e5d-807b-6019a736db7e",
   "metadata": {
    "scrolled": true,
    "tags": []
   },
   "outputs": [],
   "source": [
    "# calculate % passing for math\n",
    "pass_math = df.loc[(df[\"math_score\"] >= 70.0)].math_score.count()\n",
    "percent_pass_math = (pass_math / total_students) * 100"
   ]
  },
  {
   "cell_type": "code",
   "execution_count": 280,
   "id": "1ca33e21-9400-49a3-841a-a0a5846280a4",
   "metadata": {},
   "outputs": [],
   "source": [
    "# calculate % passing for reading\n",
    "pass_reading = df.loc[(df[\"reading_score\"] >= 70.0)].reading_score.count()\n",
    "percent_pass_reading = (pass_reading / total_students) * 100"
   ]
  },
  {
   "cell_type": "code",
   "execution_count": 281,
   "id": "d30e8b4b-8b56-4531-b1ab-8bd448d4cdaf",
   "metadata": {},
   "outputs": [],
   "source": [
    "# calculate % passing for both\n",
    "pass_both = df.loc[(df[\"math_score\"] >= 70.0) & (df[\"reading_score\"] >= 70.0)].reading_score.count()\n",
    "percent_pass_both = (pass_both / total_students) * 100"
   ]
  },
  {
   "cell_type": "code",
   "execution_count": 282,
   "id": "4fe192aa-130f-4848-819c-3aaf8fd077b0",
   "metadata": {},
   "outputs": [
    {
     "data": {
      "text/html": [
       "<div>\n",
       "<style scoped>\n",
       "    .dataframe tbody tr th:only-of-type {\n",
       "        vertical-align: middle;\n",
       "    }\n",
       "\n",
       "    .dataframe tbody tr th {\n",
       "        vertical-align: top;\n",
       "    }\n",
       "\n",
       "    .dataframe thead th {\n",
       "        text-align: right;\n",
       "    }\n",
       "</style>\n",
       "<table border=\"1\" class=\"dataframe\">\n",
       "  <thead>\n",
       "    <tr style=\"text-align: right;\">\n",
       "      <th></th>\n",
       "      <th>Total Schools</th>\n",
       "      <th>Total Students</th>\n",
       "      <th>Total Budget</th>\n",
       "      <th>Average Math Score</th>\n",
       "      <th>Average Reading Score</th>\n",
       "      <th>% Passing Math</th>\n",
       "      <th>% Passing Reading</th>\n",
       "      <th>% Overall Passing</th>\n",
       "    </tr>\n",
       "  </thead>\n",
       "  <tbody>\n",
       "    <tr>\n",
       "      <th>0</th>\n",
       "      <td>15</td>\n",
       "      <td>39170</td>\n",
       "      <td>$24,649,428.00</td>\n",
       "      <td>78.985371</td>\n",
       "      <td>81.87784</td>\n",
       "      <td>74.98085%</td>\n",
       "      <td>85.80546%</td>\n",
       "      <td>65.17233%</td>\n",
       "    </tr>\n",
       "  </tbody>\n",
       "</table>\n",
       "</div>"
      ],
      "text/plain": [
       "   Total Schools  Total Students    Total Budget  Average Math Score  \\\n",
       "0             15           39170  $24,649,428.00           78.985371   \n",
       "\n",
       "   Average Reading Score % Passing Math % Passing Reading % Overall Passing  \n",
       "0               81.87784      74.98085%         85.80546%         65.17233%  "
      ]
     },
     "execution_count": 282,
     "metadata": {},
     "output_type": "execute_result"
    }
   ],
   "source": [
    "district_df = pd.DataFrame(columns=('Total Schools','Total Students','Total Budget','Average Math Score','Average Reading Score','% Passing Math','% Passing Reading','% Overall Passing'))\n",
    "\n",
    "district_df.loc[0] = [total_schools,total_students,total_budget,avg_math,avg_reading,percent_pass_math,percent_pass_reading,percent_pass_both]\n",
    "\n",
    "district_df[\"Total Schools\"] = district_df[\"Total Schools\"].astype(int)\n",
    "district_df[\"Total Students\"] = district_df[\"Total Students\"].astype(int)\n",
    "district_df[\"Total Budget\"] = district_df[\"Total Budget\"].map(\"${:,.2f}\".format)\n",
    "district_df[\"% Passing Math\"] = district_df[\"% Passing Math\"].map(\"{:.5f}%\".format)\n",
    "district_df[\"% Passing Reading\"] = district_df[\"% Passing Reading\"].map(\"{:.5f}%\".format)\n",
    "district_df[\"% Overall Passing\"] = district_df[\"% Overall Passing\"].map(\"{:.5f}%\".format)\n",
    "\n",
    "district_df.head()"
   ]
  },
  {
   "cell_type": "code",
   "execution_count": null,
   "id": "5c130669-94bc-4978-bc69-d639aea7aa71",
   "metadata": {},
   "outputs": [],
   "source": []
  },
  {
   "cell_type": "markdown",
   "id": "75a529b9-c807-4f41-9110-653e1e45220b",
   "metadata": {},
   "source": [
    "## School Summary"
   ]
  },
  {
   "cell_type": "markdown",
   "id": "8fd95d33-ea10-428c-902b-c3865371df03",
   "metadata": {},
   "source": [
    "**Create a DataFrame that summarizes key metrics about each school, including the following:**\n",
    "\n",
    "- School name\n",
    "- School type\n",
    "- Total students\n",
    "- Total school budget\n",
    "- Per student budget\n",
    "- Average math score\n",
    "- Average reading score\n",
    "- % passing math (the percentage of students who passed math)\n",
    "- % passing reading (the percentage of students who passed reading)\n",
    "- % overall passing (the percentage of students who passed math AND reading)"
   ]
  },
  {
   "cell_type": "code",
   "execution_count": 311,
   "id": "62039a2b-8652-406a-83c1-ffaa9f58261c",
   "metadata": {},
   "outputs": [
    {
     "data": {
      "text/html": [
       "<div>\n",
       "<style scoped>\n",
       "    .dataframe tbody tr th:only-of-type {\n",
       "        vertical-align: middle;\n",
       "    }\n",
       "\n",
       "    .dataframe tbody tr th {\n",
       "        vertical-align: top;\n",
       "    }\n",
       "\n",
       "    .dataframe thead th {\n",
       "        text-align: right;\n",
       "    }\n",
       "</style>\n",
       "<table border=\"1\" class=\"dataframe\">\n",
       "  <thead>\n",
       "    <tr style=\"text-align: right;\">\n",
       "      <th></th>\n",
       "      <th>student_name</th>\n",
       "      <th>math_score</th>\n",
       "      <th>reading_score</th>\n",
       "    </tr>\n",
       "    <tr>\n",
       "      <th>school_name</th>\n",
       "      <th></th>\n",
       "      <th></th>\n",
       "      <th></th>\n",
       "    </tr>\n",
       "  </thead>\n",
       "  <tbody>\n",
       "    <tr>\n",
       "      <th>Bailey High School</th>\n",
       "      <td>4976</td>\n",
       "      <td>77.048432</td>\n",
       "      <td>81.033963</td>\n",
       "    </tr>\n",
       "    <tr>\n",
       "      <th>Cabrera High School</th>\n",
       "      <td>1858</td>\n",
       "      <td>83.061895</td>\n",
       "      <td>83.975780</td>\n",
       "    </tr>\n",
       "    <tr>\n",
       "      <th>Figueroa High School</th>\n",
       "      <td>2949</td>\n",
       "      <td>76.711767</td>\n",
       "      <td>81.158020</td>\n",
       "    </tr>\n",
       "    <tr>\n",
       "      <th>Ford High School</th>\n",
       "      <td>2739</td>\n",
       "      <td>77.102592</td>\n",
       "      <td>80.746258</td>\n",
       "    </tr>\n",
       "    <tr>\n",
       "      <th>Griffin High School</th>\n",
       "      <td>1468</td>\n",
       "      <td>83.351499</td>\n",
       "      <td>83.816757</td>\n",
       "    </tr>\n",
       "    <tr>\n",
       "      <th>Hernandez High School</th>\n",
       "      <td>4635</td>\n",
       "      <td>77.289752</td>\n",
       "      <td>80.934412</td>\n",
       "    </tr>\n",
       "    <tr>\n",
       "      <th>Holden High School</th>\n",
       "      <td>427</td>\n",
       "      <td>83.803279</td>\n",
       "      <td>83.814988</td>\n",
       "    </tr>\n",
       "    <tr>\n",
       "      <th>Huang High School</th>\n",
       "      <td>2917</td>\n",
       "      <td>76.629414</td>\n",
       "      <td>81.182722</td>\n",
       "    </tr>\n",
       "    <tr>\n",
       "      <th>Johnson High School</th>\n",
       "      <td>4761</td>\n",
       "      <td>77.072464</td>\n",
       "      <td>80.966394</td>\n",
       "    </tr>\n",
       "    <tr>\n",
       "      <th>Pena High School</th>\n",
       "      <td>962</td>\n",
       "      <td>83.839917</td>\n",
       "      <td>84.044699</td>\n",
       "    </tr>\n",
       "    <tr>\n",
       "      <th>Rodriguez High School</th>\n",
       "      <td>3999</td>\n",
       "      <td>76.842711</td>\n",
       "      <td>80.744686</td>\n",
       "    </tr>\n",
       "    <tr>\n",
       "      <th>Shelton High School</th>\n",
       "      <td>1761</td>\n",
       "      <td>83.359455</td>\n",
       "      <td>83.725724</td>\n",
       "    </tr>\n",
       "    <tr>\n",
       "      <th>Thomas High School</th>\n",
       "      <td>1635</td>\n",
       "      <td>83.418349</td>\n",
       "      <td>83.848930</td>\n",
       "    </tr>\n",
       "    <tr>\n",
       "      <th>Wilson High School</th>\n",
       "      <td>2283</td>\n",
       "      <td>83.274201</td>\n",
       "      <td>83.989488</td>\n",
       "    </tr>\n",
       "    <tr>\n",
       "      <th>Wright High School</th>\n",
       "      <td>1800</td>\n",
       "      <td>83.682222</td>\n",
       "      <td>83.955000</td>\n",
       "    </tr>\n",
       "  </tbody>\n",
       "</table>\n",
       "</div>"
      ],
      "text/plain": [
       "                       student_name  math_score  reading_score\n",
       "school_name                                                   \n",
       "Bailey High School             4976   77.048432      81.033963\n",
       "Cabrera High School            1858   83.061895      83.975780\n",
       "Figueroa High School           2949   76.711767      81.158020\n",
       "Ford High School               2739   77.102592      80.746258\n",
       "Griffin High School            1468   83.351499      83.816757\n",
       "Hernandez High School          4635   77.289752      80.934412\n",
       "Holden High School              427   83.803279      83.814988\n",
       "Huang High School              2917   76.629414      81.182722\n",
       "Johnson High School            4761   77.072464      80.966394\n",
       "Pena High School                962   83.839917      84.044699\n",
       "Rodriguez High School          3999   76.842711      80.744686\n",
       "Shelton High School            1761   83.359455      83.725724\n",
       "Thomas High School             1635   83.418349      83.848930\n",
       "Wilson High School             2283   83.274201      83.989488\n",
       "Wright High School             1800   83.682222      83.955000"
      ]
     },
     "execution_count": 311,
     "metadata": {},
     "output_type": "execute_result"
    }
   ],
   "source": [
    "# group by school / school name is index\n",
    "# used groupby / agg to count student names and find avg for math and reading scores\n",
    "groupby_school_df = df.set_index([\"school_name\"]).sort_index()\n",
    "groupby_school_df = groupby_school_df.groupby(\"school_name\").agg({'student_name': 'count', 'math_score': 'mean', 'reading_score': 'mean'})\n",
    "groupby_school_df.head(15)\n"
   ]
  },
  {
   "cell_type": "code",
   "execution_count": null,
   "id": "738e397d-0be5-4d1d-a259-7ec235abec6a",
   "metadata": {},
   "outputs": [],
   "source": []
  },
  {
   "cell_type": "markdown",
   "id": "95546410-92f7-4837-a62f-f671a578121e",
   "metadata": {},
   "source": [
    "## Highest-Performing Schools (by % Overall Passing)\n",
    "\n",
    "Create a DataFrame that highlights the top 5 performing schools based on % Overall Passing. Include the following metrics:\n",
    "\n",
    "* School name\n",
    "* School type\n",
    "* Total students\n",
    "* Total school budget\n",
    "* Per student budget\n",
    "* Average math score\n",
    "* Average reading score\n",
    "* % passing math (the percentage of students who passed math)\n",
    "* % passing reading (the percentage of students who passed reading)\n",
    "* % overall passing (the percentage of students who passed math AND reading)"
   ]
  },
  {
   "cell_type": "code",
   "execution_count": null,
   "id": "890cd948-46bb-4429-8fae-4ee7ad6341ac",
   "metadata": {
    "tags": []
   },
   "outputs": [],
   "source": []
  },
  {
   "cell_type": "code",
   "execution_count": null,
   "id": "0f3e2d48-8b41-4470-9417-915ac56c3b43",
   "metadata": {},
   "outputs": [],
   "source": []
  },
  {
   "cell_type": "markdown",
   "id": "f687ba98-2727-4901-b779-0f687164b9d7",
   "metadata": {},
   "source": [
    "## Lowest-Performing Schools (by % Overall Passing)\n",
    "\n",
    "Create a DataFrame that highlights the bottom 5 performing schools based on % Overall Passing. Include the following metrics:\n",
    "\n",
    "* School name\n",
    "* School type\n",
    "* Total students\n",
    "* Total school budget\n",
    "* Per student budget\n",
    "* Average math score\n",
    "* Average reading score\n",
    "* % passing math (the percentage of students who passed math)\n",
    "* % passing reading (the percentage of students who passed reading)\n",
    "* % overall passing (the percentage of students who passed math AND reading)"
   ]
  },
  {
   "cell_type": "code",
   "execution_count": null,
   "id": "7314f6b7-ba7e-4fe5-86d8-649f4c3de45f",
   "metadata": {},
   "outputs": [],
   "source": []
  },
  {
   "cell_type": "code",
   "execution_count": null,
   "id": "69e97d72-6e8d-47b8-a3a3-c39d7064d9b0",
   "metadata": {},
   "outputs": [],
   "source": []
  },
  {
   "cell_type": "markdown",
   "id": "9d5bc328-de0b-476d-bdf1-13fd1b681b85",
   "metadata": {},
   "source": [
    "## Math Scores by Grade\n",
    "\n",
    "Create a DataFrame that lists the average math score for students of each grade level (9th, 10th, 11th, 12th) at each school."
   ]
  },
  {
   "cell_type": "code",
   "execution_count": null,
   "id": "7a0223e1-91cd-4126-bd16-bce7a82578f6",
   "metadata": {},
   "outputs": [],
   "source": []
  },
  {
   "cell_type": "code",
   "execution_count": null,
   "id": "f8beaaf4-12fa-4140-87d6-759edc200240",
   "metadata": {},
   "outputs": [],
   "source": []
  },
  {
   "cell_type": "markdown",
   "id": "74c1d46f-72fa-4705-b58b-5f08927d9599",
   "metadata": {},
   "source": [
    "## Reading Scores by Grade\n",
    "\n",
    "Create a DataFrame that lists the average reading score for students of each grade level (9th, 10th, 11th, 12th) at each school."
   ]
  },
  {
   "cell_type": "code",
   "execution_count": null,
   "id": "99bd6a6f-77ad-46bd-916d-7cff51ae9671",
   "metadata": {},
   "outputs": [],
   "source": []
  },
  {
   "cell_type": "code",
   "execution_count": null,
   "id": "1261de0e-aa8c-4f57-a7e4-4f8b3aacea60",
   "metadata": {},
   "outputs": [],
   "source": []
  },
  {
   "cell_type": "markdown",
   "id": "cb0319f1-1496-46c8-9170-ba916aa60a0b",
   "metadata": {},
   "source": [
    "## Scores by School Spending\n",
    "\n",
    "Create a table that breaks down school performance based on average spending ranges (per student). Use your judgment to create four bins with reasonable cutoff values to group school spending. Include the following metrics in the table:\n",
    "\n",
    "* Average math score\n",
    "* Average reading score\n",
    "* % passing math (the percentage of students who passed math)\n",
    "* % passing reading (the percentage of students who passed reading)\n",
    "* % overall passing (the percentage of students who passed math AND reading)"
   ]
  },
  {
   "cell_type": "code",
   "execution_count": null,
   "id": "335dda70-8bbf-4ea5-919b-e73d67037a71",
   "metadata": {},
   "outputs": [],
   "source": []
  },
  {
   "cell_type": "code",
   "execution_count": null,
   "id": "8926e7b8-f031-4851-99c5-66e9405c2a8e",
   "metadata": {},
   "outputs": [],
   "source": []
  },
  {
   "cell_type": "markdown",
   "id": "0f2f54ca-39a5-4a21-9548-250931d4f676",
   "metadata": {},
   "source": [
    "## Scores by School Size\n",
    "\n",
    "Create a table that breaks down school performance based on school size (small, medium, or large)."
   ]
  },
  {
   "cell_type": "code",
   "execution_count": null,
   "id": "e541a5c3-c9d8-4cde-a03a-2945d879fe1a",
   "metadata": {},
   "outputs": [],
   "source": [
    "#group by size"
   ]
  },
  {
   "cell_type": "code",
   "execution_count": null,
   "id": "1f53d176-6d32-41b3-b9d5-6c9301213796",
   "metadata": {},
   "outputs": [],
   "source": []
  },
  {
   "cell_type": "markdown",
   "id": "773d1036-d8cf-4804-a8cc-a188068362e3",
   "metadata": {},
   "source": [
    "## Scores by School Type\n",
    "\n",
    "Create a table that breaks down school performance based on type of school (district or charter)."
   ]
  },
  {
   "cell_type": "code",
   "execution_count": null,
   "id": "3e1d7d98-f1a2-4494-b49f-f86b8be67337",
   "metadata": {},
   "outputs": [],
   "source": [
    "#group by type"
   ]
  },
  {
   "cell_type": "code",
   "execution_count": null,
   "id": "5c24f5be-bed7-4b90-9236-d9bbd852bb13",
   "metadata": {},
   "outputs": [],
   "source": []
  }
 ],
 "metadata": {
  "kernelspec": {
   "display_name": "Python 3 (ipykernel)",
   "language": "python",
   "name": "python3"
  },
  "language_info": {
   "codemirror_mode": {
    "name": "ipython",
    "version": 3
   },
   "file_extension": ".py",
   "mimetype": "text/x-python",
   "name": "python",
   "nbconvert_exporter": "python",
   "pygments_lexer": "ipython3",
   "version": "3.9.7"
  }
 },
 "nbformat": 4,
 "nbformat_minor": 5
}
