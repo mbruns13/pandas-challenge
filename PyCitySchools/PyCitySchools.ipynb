{
 "cells": [
  {
   "cell_type": "code",
   "execution_count": 72,
   "id": "7e36d9dd-219d-4414-b302-112aabf1605f",
   "metadata": {},
   "outputs": [],
   "source": [
    " # Dependencies and Setup\n",
    "import pandas as pd"
   ]
  },
  {
   "cell_type": "code",
   "execution_count": 11,
   "id": "f147640c-4a62-454a-a6fb-f14051604670",
   "metadata": {},
   "outputs": [
    {
     "data": {
      "text/html": [
       "<div>\n",
       "<style scoped>\n",
       "    .dataframe tbody tr th:only-of-type {\n",
       "        vertical-align: middle;\n",
       "    }\n",
       "\n",
       "    .dataframe tbody tr th {\n",
       "        vertical-align: top;\n",
       "    }\n",
       "\n",
       "    .dataframe thead th {\n",
       "        text-align: right;\n",
       "    }\n",
       "</style>\n",
       "<table border=\"1\" class=\"dataframe\">\n",
       "  <thead>\n",
       "    <tr style=\"text-align: right;\">\n",
       "      <th></th>\n",
       "      <th>Student ID</th>\n",
       "      <th>student_name</th>\n",
       "      <th>gender</th>\n",
       "      <th>grade</th>\n",
       "      <th>school_name</th>\n",
       "      <th>reading_score</th>\n",
       "      <th>math_score</th>\n",
       "      <th>School ID</th>\n",
       "      <th>type</th>\n",
       "      <th>size</th>\n",
       "      <th>budget</th>\n",
       "    </tr>\n",
       "  </thead>\n",
       "  <tbody>\n",
       "    <tr>\n",
       "      <th>0</th>\n",
       "      <td>0</td>\n",
       "      <td>Paul Bradley</td>\n",
       "      <td>M</td>\n",
       "      <td>9th</td>\n",
       "      <td>Huang High School</td>\n",
       "      <td>66</td>\n",
       "      <td>79</td>\n",
       "      <td>0</td>\n",
       "      <td>District</td>\n",
       "      <td>2917</td>\n",
       "      <td>1910635</td>\n",
       "    </tr>\n",
       "    <tr>\n",
       "      <th>1</th>\n",
       "      <td>1</td>\n",
       "      <td>Victor Smith</td>\n",
       "      <td>M</td>\n",
       "      <td>12th</td>\n",
       "      <td>Huang High School</td>\n",
       "      <td>94</td>\n",
       "      <td>61</td>\n",
       "      <td>0</td>\n",
       "      <td>District</td>\n",
       "      <td>2917</td>\n",
       "      <td>1910635</td>\n",
       "    </tr>\n",
       "    <tr>\n",
       "      <th>2</th>\n",
       "      <td>2</td>\n",
       "      <td>Kevin Rodriguez</td>\n",
       "      <td>M</td>\n",
       "      <td>12th</td>\n",
       "      <td>Huang High School</td>\n",
       "      <td>90</td>\n",
       "      <td>60</td>\n",
       "      <td>0</td>\n",
       "      <td>District</td>\n",
       "      <td>2917</td>\n",
       "      <td>1910635</td>\n",
       "    </tr>\n",
       "    <tr>\n",
       "      <th>3</th>\n",
       "      <td>3</td>\n",
       "      <td>Dr. Richard Scott</td>\n",
       "      <td>M</td>\n",
       "      <td>12th</td>\n",
       "      <td>Huang High School</td>\n",
       "      <td>67</td>\n",
       "      <td>58</td>\n",
       "      <td>0</td>\n",
       "      <td>District</td>\n",
       "      <td>2917</td>\n",
       "      <td>1910635</td>\n",
       "    </tr>\n",
       "    <tr>\n",
       "      <th>4</th>\n",
       "      <td>4</td>\n",
       "      <td>Bonnie Ray</td>\n",
       "      <td>F</td>\n",
       "      <td>9th</td>\n",
       "      <td>Huang High School</td>\n",
       "      <td>97</td>\n",
       "      <td>84</td>\n",
       "      <td>0</td>\n",
       "      <td>District</td>\n",
       "      <td>2917</td>\n",
       "      <td>1910635</td>\n",
       "    </tr>\n",
       "  </tbody>\n",
       "</table>\n",
       "</div>"
      ],
      "text/plain": [
       "   Student ID       student_name gender grade        school_name  \\\n",
       "0           0       Paul Bradley      M   9th  Huang High School   \n",
       "1           1       Victor Smith      M  12th  Huang High School   \n",
       "2           2    Kevin Rodriguez      M  12th  Huang High School   \n",
       "3           3  Dr. Richard Scott      M  12th  Huang High School   \n",
       "4           4         Bonnie Ray      F   9th  Huang High School   \n",
       "\n",
       "   reading_score  math_score  School ID      type  size   budget  \n",
       "0             66          79          0  District  2917  1910635  \n",
       "1             94          61          0  District  2917  1910635  \n",
       "2             90          60          0  District  2917  1910635  \n",
       "3             67          58          0  District  2917  1910635  \n",
       "4             97          84          0  District  2917  1910635  "
      ]
     },
     "execution_count": 73,
     "metadata": {},
     "output_type": "execute_result"
    }
   ],
   "source": [
    "# Files to Load\n",
    "student_input = \"Resources/students_complete.csv\"\n",
    "school_input = \"Resources/schools_complete.csv\"\n",
    "\n",
    "# Read School and Student Data File and store into Pandas DataFrames\n",
    "student_data = pd.read_csv(student_input)\n",
    "school_data = pd.read_csv(school_input)\n",
    "\n",
    "# Combine the data into a single dataset.  \n",
    "df = pd.merge(student_data, school_data, how=\"left\", on=[\"school_name\", \"school_name\"])\n",
    "df.head()"
   ]
  },
  {
   "cell_type": "markdown",
   "id": "d199d52b-609c-4a89-9168-70b610d12b48",
   "metadata": {},
   "source": [
    "## District Summary"
   ]
  },
  {
   "cell_type": "markdown",
   "id": "695cdd7a-16b8-4570-968a-e0bb91422537",
   "metadata": {},
   "source": [
    "**Create a high-level snapshot, in a DataFrame, of the district's key metrics, including the following:**\n",
    "\n",
    "- Total schools\n",
    "- Total students\n",
    "- Total budget\n",
    "- Average math score\n",
    "- Average reading score\n",
    "- % passing math (the percentage of students who passed math)\n",
    "- % passing reading (the percentage of students who passed reading)\n",
    "- % overall passing (the percentage of students who passed math AND reading)"
   ]
  },
  {
   "cell_type": "code",
   "execution_count": 128,
   "id": "ccdf3c92-c827-4c56-ad43-d1410eebdb54",
   "metadata": {},
   "outputs": [
    {
     "data": {
      "text/plain": [
       "{'Total Schools': 15, 'Total Students': 39170}"
      ]
     },
     "execution_count": 128,
     "metadata": {},
     "output_type": "execute_result"
    }
   ],
   "source": [
    "# create dataframe to show total with columns for schools, students, and budget\n",
    "test_dict = {\"Total Schools\" : df[\"School ID\"].nunique(), \"Total Students\" : df[\"Student ID\"].nunique()}\n",
    "test_dict"
   ]
  },
  {
   "cell_type": "code",
   "execution_count": 142,
   "id": "57f3032b-6d79-4fb8-8ba9-4e35e6fbec49",
   "metadata": {},
   "outputs": [
    {
     "ename": "ValueError",
     "evalue": "Length mismatch: Expected 39170 rows, received array of length 15",
     "output_type": "error",
     "traceback": [
      "\u001b[0;31m---------------------------------------------------------------------------\u001b[0m",
      "\u001b[0;31mValueError\u001b[0m                                Traceback (most recent call last)",
      "\u001b[0;32m/var/folders/q2/5v2xmgf12v118bg1jrms5ph80000gn/T/ipykernel_29526/3651593579.py\u001b[0m in \u001b[0;36m<module>\u001b[0;34m\u001b[0m\n\u001b[0;32m----> 1\u001b[0;31m \u001b[0mbudget_test\u001b[0m \u001b[0;34m=\u001b[0m \u001b[0mdf\u001b[0m\u001b[0;34m.\u001b[0m\u001b[0mloc\u001b[0m\u001b[0;34m[\u001b[0m\u001b[0;34m:\u001b[0m\u001b[0;34m,\u001b[0m\u001b[0;34m[\u001b[0m\u001b[0;34m\"School ID\"\u001b[0m\u001b[0;34m,\u001b[0m\u001b[0;34m\"budget\"\u001b[0m\u001b[0;34m]\u001b[0m\u001b[0;34m]\u001b[0m\u001b[0;34m.\u001b[0m\u001b[0mset_index\u001b[0m\u001b[0;34m(\u001b[0m\u001b[0mdf\u001b[0m\u001b[0;34m[\u001b[0m\u001b[0;34m\"School ID\"\u001b[0m\u001b[0;34m]\u001b[0m\u001b[0;34m.\u001b[0m\u001b[0munique\u001b[0m\u001b[0;34m(\u001b[0m\u001b[0;34m)\u001b[0m\u001b[0;34m)\u001b[0m\u001b[0;34m\u001b[0m\u001b[0;34m\u001b[0m\u001b[0m\n\u001b[0m\u001b[1;32m      2\u001b[0m \u001b[0mbudget_test\u001b[0m\u001b[0;34m\u001b[0m\u001b[0;34m\u001b[0m\u001b[0m\n",
      "\u001b[0;32m~/opt/anaconda3/lib/python3.9/site-packages/pandas/util/_decorators.py\u001b[0m in \u001b[0;36mwrapper\u001b[0;34m(*args, **kwargs)\u001b[0m\n\u001b[1;32m    309\u001b[0m                     \u001b[0mstacklevel\u001b[0m\u001b[0;34m=\u001b[0m\u001b[0mstacklevel\u001b[0m\u001b[0;34m,\u001b[0m\u001b[0;34m\u001b[0m\u001b[0;34m\u001b[0m\u001b[0m\n\u001b[1;32m    310\u001b[0m                 )\n\u001b[0;32m--> 311\u001b[0;31m             \u001b[0;32mreturn\u001b[0m \u001b[0mfunc\u001b[0m\u001b[0;34m(\u001b[0m\u001b[0;34m*\u001b[0m\u001b[0margs\u001b[0m\u001b[0;34m,\u001b[0m \u001b[0;34m**\u001b[0m\u001b[0mkwargs\u001b[0m\u001b[0;34m)\u001b[0m\u001b[0;34m\u001b[0m\u001b[0;34m\u001b[0m\u001b[0m\n\u001b[0m\u001b[1;32m    312\u001b[0m \u001b[0;34m\u001b[0m\u001b[0m\n\u001b[1;32m    313\u001b[0m         \u001b[0;32mreturn\u001b[0m \u001b[0mwrapper\u001b[0m\u001b[0;34m\u001b[0m\u001b[0;34m\u001b[0m\u001b[0m\n",
      "\u001b[0;32m~/opt/anaconda3/lib/python3.9/site-packages/pandas/core/frame.py\u001b[0m in \u001b[0;36mset_index\u001b[0;34m(self, keys, drop, append, inplace, verify_integrity)\u001b[0m\n\u001b[1;32m   5499\u001b[0m                 \u001b[0;31m# check newest element against length of calling frame, since\u001b[0m\u001b[0;34m\u001b[0m\u001b[0;34m\u001b[0m\u001b[0m\n\u001b[1;32m   5500\u001b[0m                 \u001b[0;31m# ensure_index_from_sequences would not raise for append=False.\u001b[0m\u001b[0;34m\u001b[0m\u001b[0;34m\u001b[0m\u001b[0m\n\u001b[0;32m-> 5501\u001b[0;31m                 raise ValueError(\n\u001b[0m\u001b[1;32m   5502\u001b[0m                     \u001b[0;34mf\"Length mismatch: Expected {len(self)} rows, \"\u001b[0m\u001b[0;34m\u001b[0m\u001b[0;34m\u001b[0m\u001b[0m\n\u001b[1;32m   5503\u001b[0m                     \u001b[0;34mf\"received array of length {len(arrays[-1])}\"\u001b[0m\u001b[0;34m\u001b[0m\u001b[0;34m\u001b[0m\u001b[0m\n",
      "\u001b[0;31mValueError\u001b[0m: Length mismatch: Expected 39170 rows, received array of length 15"
     ]
    }
   ],
   "source": []
  },
  {
   "cell_type": "code",
   "execution_count": 94,
   "id": "bea0a4b1-fc40-4947-b4f3-4f3d7d619502",
   "metadata": {},
   "outputs": [],
   "source": [
    "# create dataframe to show avg with columns math score and reading score\n",
    "avg_df = df.loc[:,[\"math_score\",\"reading_score\"]].mean()\n",
    "avg_df.head()"
   ]
  },
  {
   "cell_type": "code",
   "execution_count": 116,
   "id": "89ad8b6a-ae57-4e5d-807b-6019a736db7e",
   "metadata": {},
   "outputs": [
    {
     "data": {
      "text/html": [
       "<div>\n",
       "<style scoped>\n",
       "    .dataframe tbody tr th:only-of-type {\n",
       "        vertical-align: middle;\n",
       "    }\n",
       "\n",
       "    .dataframe tbody tr th {\n",
       "        vertical-align: top;\n",
       "    }\n",
       "\n",
       "    .dataframe thead th {\n",
       "        text-align: right;\n",
       "    }\n",
       "</style>\n",
       "<table border=\"1\" class=\"dataframe\">\n",
       "  <thead>\n",
       "    <tr style=\"text-align: right;\">\n",
       "      <th></th>\n",
       "      <th>Student ID</th>\n",
       "      <th>student_name</th>\n",
       "      <th>gender</th>\n",
       "      <th>grade</th>\n",
       "      <th>school_name</th>\n",
       "      <th>reading_score</th>\n",
       "      <th>math_score</th>\n",
       "      <th>School ID</th>\n",
       "      <th>type</th>\n",
       "      <th>size</th>\n",
       "      <th>budget</th>\n",
       "      <th>% passing math</th>\n",
       "    </tr>\n",
       "  </thead>\n",
       "  <tbody>\n",
       "    <tr>\n",
       "      <th>0</th>\n",
       "      <td>0</td>\n",
       "      <td>Paul Bradley</td>\n",
       "      <td>M</td>\n",
       "      <td>9th</td>\n",
       "      <td>Huang High School</td>\n",
       "      <td>66</td>\n",
       "      <td>79</td>\n",
       "      <td>0</td>\n",
       "      <td>District</td>\n",
       "      <td>2917</td>\n",
       "      <td>1910635</td>\n",
       "      <td>0.241435</td>\n",
       "    </tr>\n",
       "    <tr>\n",
       "      <th>1</th>\n",
       "      <td>1</td>\n",
       "      <td>Victor Smith</td>\n",
       "      <td>M</td>\n",
       "      <td>12th</td>\n",
       "      <td>Huang High School</td>\n",
       "      <td>94</td>\n",
       "      <td>61</td>\n",
       "      <td>0</td>\n",
       "      <td>District</td>\n",
       "      <td>2917</td>\n",
       "      <td>1910635</td>\n",
       "      <td>0.241435</td>\n",
       "    </tr>\n",
       "    <tr>\n",
       "      <th>2</th>\n",
       "      <td>2</td>\n",
       "      <td>Kevin Rodriguez</td>\n",
       "      <td>M</td>\n",
       "      <td>12th</td>\n",
       "      <td>Huang High School</td>\n",
       "      <td>90</td>\n",
       "      <td>60</td>\n",
       "      <td>0</td>\n",
       "      <td>District</td>\n",
       "      <td>2917</td>\n",
       "      <td>1910635</td>\n",
       "      <td>0.241435</td>\n",
       "    </tr>\n",
       "    <tr>\n",
       "      <th>3</th>\n",
       "      <td>3</td>\n",
       "      <td>Dr. Richard Scott</td>\n",
       "      <td>M</td>\n",
       "      <td>12th</td>\n",
       "      <td>Huang High School</td>\n",
       "      <td>67</td>\n",
       "      <td>58</td>\n",
       "      <td>0</td>\n",
       "      <td>District</td>\n",
       "      <td>2917</td>\n",
       "      <td>1910635</td>\n",
       "      <td>0.241435</td>\n",
       "    </tr>\n",
       "    <tr>\n",
       "      <th>4</th>\n",
       "      <td>4</td>\n",
       "      <td>Bonnie Ray</td>\n",
       "      <td>F</td>\n",
       "      <td>9th</td>\n",
       "      <td>Huang High School</td>\n",
       "      <td>97</td>\n",
       "      <td>84</td>\n",
       "      <td>0</td>\n",
       "      <td>District</td>\n",
       "      <td>2917</td>\n",
       "      <td>1910635</td>\n",
       "      <td>0.241435</td>\n",
       "    </tr>\n",
       "  </tbody>\n",
       "</table>\n",
       "</div>"
      ],
      "text/plain": [
       "   Student ID       student_name gender grade        school_name  \\\n",
       "0           0       Paul Bradley      M   9th  Huang High School   \n",
       "1           1       Victor Smith      M  12th  Huang High School   \n",
       "2           2    Kevin Rodriguez      M  12th  Huang High School   \n",
       "3           3  Dr. Richard Scott      M  12th  Huang High School   \n",
       "4           4         Bonnie Ray      F   9th  Huang High School   \n",
       "\n",
       "   reading_score  math_score  School ID      type  size   budget  \\\n",
       "0             66          79          0  District  2917  1910635   \n",
       "1             94          61          0  District  2917  1910635   \n",
       "2             90          60          0  District  2917  1910635   \n",
       "3             67          58          0  District  2917  1910635   \n",
       "4             97          84          0  District  2917  1910635   \n",
       "\n",
       "   % passing math  \n",
       "0        0.241435  \n",
       "1        0.241435  \n",
       "2        0.241435  \n",
       "3        0.241435  \n",
       "4        0.241435  "
      ]
     },
     "execution_count": 116,
     "metadata": {},
     "output_type": "execute_result"
    }
   ],
   "source": [
    "# create new columns that show % passing for math, reading, and combined\n",
    "newDF = df\n",
    "newDF[\"% passing math\"] = (df[\"math_score\"].mean() / df[\"student_name\"].nunique()) * 100\n",
    "newDF.head()"
   ]
  },
  {
   "cell_type": "markdown",
   "id": "75a529b9-c807-4f41-9110-653e1e45220b",
   "metadata": {},
   "source": [
    "## School Summary"
   ]
  },
  {
   "cell_type": "markdown",
   "id": "8fd95d33-ea10-428c-902b-c3865371df03",
   "metadata": {},
   "source": [
    "**Create a DataFrame that summarizes key metrics about each school, including the following:**\n",
    "\n",
    "- School name\n",
    "- School type\n",
    "- Total students\n",
    "- Total school budget\n",
    "- Per student budget\n",
    "- Average math score\n",
    "- Average reading score\n",
    "- % passing math (the percentage of students who passed math)\n",
    "- % passing reading (the percentage of students who passed reading)\n",
    "- % overall passing (the percentage of students who passed math AND reading)"
   ]
  },
  {
   "cell_type": "code",
   "execution_count": null,
   "id": "62039a2b-8652-406a-83c1-ffaa9f58261c",
   "metadata": {},
   "outputs": [],
   "source": []
  },
  {
   "cell_type": "code",
   "execution_count": null,
   "id": "738e397d-0be5-4d1d-a259-7ec235abec6a",
   "metadata": {},
   "outputs": [],
   "source": []
  },
  {
   "cell_type": "markdown",
   "id": "95546410-92f7-4837-a62f-f671a578121e",
   "metadata": {},
   "source": [
    "## Highest-Performing Schools (by % Overall Passing)\n",
    "\n",
    "Create a DataFrame that highlights the top 5 performing schools based on % Overall Passing. Include the following metrics:\n",
    "\n",
    "* School name\n",
    "* School type\n",
    "* Total students\n",
    "* Total school budget\n",
    "* Per student budget\n",
    "* Average math score\n",
    "* Average reading score\n",
    "* % passing math (the percentage of students who passed math)\n",
    "* % passing reading (the percentage of students who passed reading)\n",
    "* % overall passing (the percentage of students who passed math AND reading)"
   ]
  },
  {
   "cell_type": "code",
   "execution_count": null,
   "id": "890cd948-46bb-4429-8fae-4ee7ad6341ac",
   "metadata": {
    "tags": []
   },
   "outputs": [],
   "source": []
  },
  {
   "cell_type": "code",
   "execution_count": null,
   "id": "0f3e2d48-8b41-4470-9417-915ac56c3b43",
   "metadata": {},
   "outputs": [],
   "source": []
  },
  {
   "cell_type": "markdown",
   "id": "f687ba98-2727-4901-b779-0f687164b9d7",
   "metadata": {},
   "source": [
    "## Lowest-Performing Schools (by % Overall Passing)\n",
    "\n",
    "Create a DataFrame that highlights the bottom 5 performing schools based on % Overall Passing. Include the following metrics:\n",
    "\n",
    "* School name\n",
    "* School type\n",
    "* Total students\n",
    "* Total school budget\n",
    "* Per student budget\n",
    "* Average math score\n",
    "* Average reading score\n",
    "* % passing math (the percentage of students who passed math)\n",
    "* % passing reading (the percentage of students who passed reading)\n",
    "* % overall passing (the percentage of students who passed math AND reading)"
   ]
  },
  {
   "cell_type": "code",
   "execution_count": null,
   "id": "7314f6b7-ba7e-4fe5-86d8-649f4c3de45f",
   "metadata": {},
   "outputs": [],
   "source": []
  },
  {
   "cell_type": "code",
   "execution_count": null,
   "id": "69e97d72-6e8d-47b8-a3a3-c39d7064d9b0",
   "metadata": {},
   "outputs": [],
   "source": []
  },
  {
   "cell_type": "markdown",
   "id": "9d5bc328-de0b-476d-bdf1-13fd1b681b85",
   "metadata": {},
   "source": [
    "## Math Scores by Grade\n",
    "\n",
    "Create a DataFrame that lists the average math score for students of each grade level (9th, 10th, 11th, 12th) at each school."
   ]
  },
  {
   "cell_type": "code",
   "execution_count": null,
   "id": "7a0223e1-91cd-4126-bd16-bce7a82578f6",
   "metadata": {},
   "outputs": [],
   "source": []
  },
  {
   "cell_type": "code",
   "execution_count": null,
   "id": "f8beaaf4-12fa-4140-87d6-759edc200240",
   "metadata": {},
   "outputs": [],
   "source": []
  },
  {
   "cell_type": "markdown",
   "id": "74c1d46f-72fa-4705-b58b-5f08927d9599",
   "metadata": {},
   "source": [
    "## Reading Scores by Grade\n",
    "\n",
    "Create a DataFrame that lists the average reading score for students of each grade level (9th, 10th, 11th, 12th) at each school."
   ]
  },
  {
   "cell_type": "code",
   "execution_count": null,
   "id": "99bd6a6f-77ad-46bd-916d-7cff51ae9671",
   "metadata": {},
   "outputs": [],
   "source": []
  },
  {
   "cell_type": "code",
   "execution_count": null,
   "id": "1261de0e-aa8c-4f57-a7e4-4f8b3aacea60",
   "metadata": {},
   "outputs": [],
   "source": []
  },
  {
   "cell_type": "markdown",
   "id": "cb0319f1-1496-46c8-9170-ba916aa60a0b",
   "metadata": {},
   "source": [
    "## Scores by School Spending\n",
    "\n",
    "Create a table that breaks down school performance based on average spending ranges (per student). Use your judgment to create four bins with reasonable cutoff values to group school spending. Include the following metrics in the table:\n",
    "\n",
    "* Average math score\n",
    "* Average reading score\n",
    "* % passing math (the percentage of students who passed math)\n",
    "* % passing reading (the percentage of students who passed reading)\n",
    "* % overall passing (the percentage of students who passed math AND reading)"
   ]
  },
  {
   "cell_type": "code",
   "execution_count": null,
   "id": "335dda70-8bbf-4ea5-919b-e73d67037a71",
   "metadata": {},
   "outputs": [],
   "source": []
  },
  {
   "cell_type": "code",
   "execution_count": null,
   "id": "8926e7b8-f031-4851-99c5-66e9405c2a8e",
   "metadata": {},
   "outputs": [],
   "source": []
  },
  {
   "cell_type": "markdown",
   "id": "0f2f54ca-39a5-4a21-9548-250931d4f676",
   "metadata": {},
   "source": [
    "## Scores by School Size\n",
    "\n",
    "Create a table that breaks down school performance based on school size (small, medium, or large)."
   ]
  },
  {
   "cell_type": "code",
   "execution_count": null,
   "id": "e541a5c3-c9d8-4cde-a03a-2945d879fe1a",
   "metadata": {},
   "outputs": [],
   "source": []
  },
  {
   "cell_type": "code",
   "execution_count": null,
   "id": "1f53d176-6d32-41b3-b9d5-6c9301213796",
   "metadata": {},
   "outputs": [],
   "source": []
  },
  {
   "cell_type": "markdown",
   "id": "773d1036-d8cf-4804-a8cc-a188068362e3",
   "metadata": {},
   "source": [
    "## Scores by School Type\n",
    "\n",
    "Create a table that breaks down school performance based on type of school (district or charter)."
   ]
  },
  {
   "cell_type": "code",
   "execution_count": null,
   "id": "3e1d7d98-f1a2-4494-b49f-f86b8be67337",
   "metadata": {},
   "outputs": [],
   "source": []
  },
  {
   "cell_type": "code",
   "execution_count": null,
   "id": "5c24f5be-bed7-4b90-9236-d9bbd852bb13",
   "metadata": {},
   "outputs": [],
   "source": []
  }
 ],
 "metadata": {
  "kernelspec": {
   "display_name": "Python 3 (ipykernel)",
   "language": "python",
   "name": "python3"
  },
  "language_info": {
   "codemirror_mode": {
    "name": "ipython",
    "version": 3
   },
   "file_extension": ".py",
   "mimetype": "text/x-python",
   "name": "python",
   "nbconvert_exporter": "python",
   "pygments_lexer": "ipython3",
   "version": "3.9.7"
  }
 },
 "nbformat": 4,
 "nbformat_minor": 5
}
